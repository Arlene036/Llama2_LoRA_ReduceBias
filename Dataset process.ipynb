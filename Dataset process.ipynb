{
 "cells": [
  {
   "cell_type": "markdown",
   "id": "1e5b4663",
   "metadata": {},
   "source": [
    "### Test one dataset"
   ]
  },
  {
   "cell_type": "code",
   "execution_count": 24,
   "id": "f2a2794b",
   "metadata": {},
   "outputs": [],
   "source": [
    "formatted_data_list = []\n",
    "\n",
    "for entry in data:\n",
    "    formatted_data = {\n",
    "        'conversation_id': entry['example_id'],\n",
    "        'category': entry['category'],\n",
    "        'conversation': [ {'human': entry['context']+' '+entry['question'], 'assistant': entry[f'ans{entry[\"label\"]}']} ]\n",
    "    }\n",
    "    formatted_data_list.append(formatted_data)\n",
    "    \n",
    "# Path to the output JSON Lines file\n",
    "output_file_path = \"age_all.jsonl\"\n",
    "   \n",
    "# Path to the output JSON Lines file\n",
    "output_file_path = \"age_\" + question_polarity + \"_\" + context_condition + \".jsonl\"\n",
    "\n",
    "# Writing data to the JSON Lines file\n",
    "with jsonlines.open(output_file_path, 'w') as writer:\n",
    "    writer.write_all(formatted_data_list)"
   ]
  },
  {
   "cell_type": "markdown",
   "id": "145996b1",
   "metadata": {},
   "source": [
    "### Function"
   ]
  },
  {
   "cell_type": "code",
   "execution_count": 4,
   "id": "f9a7ae94",
   "metadata": {},
   "outputs": [],
   "source": [
    "def format_data(data, question_polarity, context_condition):\n",
    "    \n",
    "    formatted_data_list = []\n",
    "    conversation_id = 0\n",
    "\n",
    "    for entry in data:\n",
    "        if entry['question_polarity'] == question_polarity and entry['context_condition'] == context_condition:\n",
    "            formatted_data = {\n",
    "                'conversation_id': conversation_id,\n",
    "                'category': entry['category'],\n",
    "                'conversation': [ {'human': entry['context']+' '+entry['question'] + 'Choosing from following choices: 0. ' + entry['ans0'] + '; 1. ' + entry['ans1'] + '; 2. ' + entry['ans2'] + '. Please answer 0, 1 or 2.', 'assistant': entry[\"label\"]} ]\n",
    "#                 'conversation': [ {'human': entry['context']+' '+entry['question'], 'assistant': entry[f'ans{entry[\"label\"]}']} ]\n",
    "\n",
    "            }\n",
    "            formatted_data_list.append(formatted_data)\n",
    "            conversation_id += 1\n",
    "\n",
    "    return formatted_data_list"
   ]
  },
  {
   "cell_type": "markdown",
   "id": "169be448",
   "metadata": {},
   "source": [
    "### All dataset\n",
    "\n",
    "Divide the dataset into four classes."
   ]
  },
  {
   "cell_type": "code",
   "execution_count": 5,
   "id": "7e04619b",
   "metadata": {},
   "outputs": [],
   "source": [
    "import os\n",
    "import jsonlines\n",
    "\n",
    "folder_path = \"raw dataset\"\n",
    "\n",
    "# Get all files in the folder\n",
    "files = [f for f in os.listdir(folder_path) if os.path.isfile(os.path.join(folder_path, f))]\n",
    "\n",
    "for file_name in files:\n",
    "    # file_path = \"Age.jsonl\"\n",
    "    file_path = os.path.join(folder_path, file_name)\n",
    "\n",
    "    data = []\n",
    "\n",
    "    with jsonlines.open(file_path, 'r') as reader:\n",
    "        for entry in reader:\n",
    "            data.append(entry)\n",
    "            \n",
    "    for question_polarity in ['neg','nonneg']:\n",
    "        for context_condition in ['ambig','disambig']:\n",
    "            formatted_data_list = format_data(data, question_polarity, context_condition)\n",
    "            \n",
    "            # Path to the output JSON Lines file\n",
    "            output_file_path = file_name[:-6] + \"_\" + question_polarity + \"_\" + context_condition + \".jsonl\"\n",
    "\n",
    "            # Writing data to the JSON Lines file\n",
    "            with jsonlines.open(output_file_path, 'w') as writer:\n",
    "                writer.write_all(formatted_data_list)"
   ]
  }
 ],
 "metadata": {
  "kernelspec": {
   "display_name": "Python 3 (ipykernel)",
   "language": "python",
   "name": "python3"
  },
  "language_info": {
   "codemirror_mode": {
    "name": "ipython",
    "version": 3
   },
   "file_extension": ".py",
   "mimetype": "text/x-python",
   "name": "python",
   "nbconvert_exporter": "python",
   "pygments_lexer": "ipython3",
   "version": "3.10.8"
  }
 },
 "nbformat": 4,
 "nbformat_minor": 5
}
